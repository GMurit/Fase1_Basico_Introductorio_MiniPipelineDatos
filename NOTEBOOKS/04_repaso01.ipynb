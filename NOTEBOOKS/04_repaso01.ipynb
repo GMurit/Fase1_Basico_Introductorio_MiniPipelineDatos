{
 "cells": [
  {
   "cell_type": "code",
   "execution_count": 25,
   "id": "70e6e482-dd15-4b95-b123-ec7f513d90d2",
   "metadata": {},
   "outputs": [],
   "source": [
    "import pandas as pd\n",
    "import matplotlib.pyplot as plt"
   ]
  },
  {
   "cell_type": "code",
   "execution_count": 6,
   "id": "aac71464-725d-41a9-8248-ee2287e2de3e",
   "metadata": {},
   "outputs": [
    {
     "data": {
      "text/html": [
       "<div>\n",
       "<style scoped>\n",
       "    .dataframe tbody tr th:only-of-type {\n",
       "        vertical-align: middle;\n",
       "    }\n",
       "\n",
       "    .dataframe tbody tr th {\n",
       "        vertical-align: top;\n",
       "    }\n",
       "\n",
       "    .dataframe thead th {\n",
       "        text-align: right;\n",
       "    }\n",
       "</style>\n",
       "<table border=\"1\" class=\"dataframe\">\n",
       "  <thead>\n",
       "    <tr style=\"text-align: right;\">\n",
       "      <th></th>\n",
       "      <th>fecha</th>\n",
       "      <th>producto</th>\n",
       "      <th>cantidad</th>\n",
       "      <th>precio_unitario</th>\n",
       "    </tr>\n",
       "  </thead>\n",
       "  <tbody>\n",
       "    <tr>\n",
       "      <th>0</th>\n",
       "      <td>2025-10-01</td>\n",
       "      <td>Camisa</td>\n",
       "      <td>2.0</td>\n",
       "      <td>20</td>\n",
       "    </tr>\n",
       "    <tr>\n",
       "      <th>1</th>\n",
       "      <td>2025-10-01</td>\n",
       "      <td>Pantalón</td>\n",
       "      <td>1.0</td>\n",
       "      <td>30</td>\n",
       "    </tr>\n",
       "    <tr>\n",
       "      <th>2</th>\n",
       "      <td>2025-10-02</td>\n",
       "      <td>Camisa</td>\n",
       "      <td>NaN</td>\n",
       "      <td>20</td>\n",
       "    </tr>\n",
       "    <tr>\n",
       "      <th>3</th>\n",
       "      <td>2025-10-02</td>\n",
       "      <td>Zapatos</td>\n",
       "      <td>3.0</td>\n",
       "      <td>50</td>\n",
       "    </tr>\n",
       "    <tr>\n",
       "      <th>4</th>\n",
       "      <td>2025-10-03</td>\n",
       "      <td>Pantalón</td>\n",
       "      <td>2.0</td>\n",
       "      <td>30</td>\n",
       "    </tr>\n",
       "  </tbody>\n",
       "</table>\n",
       "</div>"
      ],
      "text/plain": [
       "        fecha  producto  cantidad  precio_unitario\n",
       "0  2025-10-01    Camisa       2.0               20\n",
       "1  2025-10-01  Pantalón       1.0               30\n",
       "2  2025-10-02    Camisa       NaN               20\n",
       "3  2025-10-02   Zapatos       3.0               50\n",
       "4  2025-10-03  Pantalón       2.0               30"
      ]
     },
     "execution_count": 6,
     "metadata": {},
     "output_type": "execute_result"
    }
   ],
   "source": [
    "#DICCIONARIO QUE VAMOS A CONVERTIR EN UN DATAFRAME CON PANDAS\n",
    "ventas = [\n",
    "    {\"fecha\": \"2025-10-01\", \"producto\": \"Camisa\", \"cantidad\": 2, \"precio_unitario\": 20},\n",
    "    {\"fecha\": \"2025-10-01\", \"producto\": \"Pantalón\", \"cantidad\": 1, \"precio_unitario\": 30},\n",
    "    {\"fecha\": \"2025-10-02\", \"producto\": \"Camisa\", \"cantidad\": None, \"precio_unitario\": 20},\n",
    "    {\"fecha\": \"2025-10-02\", \"producto\": \"Zapatos\", \"cantidad\": 3, \"precio_unitario\": 50},\n",
    "    {\"fecha\": \"2025-10-03\", \"producto\": \"Pantalón\", \"cantidad\": 2, \"precio_unitario\": 30},\n",
    "    {\"fecha\": \"2025-10-03\", \"producto\": \"Zapatos\", \"cantidad\": 1, \"precio_unitario\": 50},\n",
    "]\n",
    "\n",
    "df = pd.DataFrame(ventas)\n",
    "\n",
    "df.head()\n",
    "\n"
   ]
  },
  {
   "cell_type": "code",
   "execution_count": 7,
   "id": "c25ef661-aa44-4d92-a1c8-c1812c4529c0",
   "metadata": {},
   "outputs": [
    {
     "data": {
      "text/plain": [
       "fecha              0\n",
       "producto           0\n",
       "cantidad           1\n",
       "precio_unitario    0\n",
       "dtype: int64"
      ]
     },
     "execution_count": 7,
     "metadata": {},
     "output_type": "execute_result"
    }
   ],
   "source": [
    "#ESTO TE DICE QUE CANTIDAD DE NULOS HAY EN CADA COLUMNA\n",
    "df.isna().sum()"
   ]
  },
  {
   "cell_type": "code",
   "execution_count": 10,
   "id": "aa8ea0c4-4bc1-40b7-a556-d81c891181ed",
   "metadata": {},
   "outputs": [
    {
     "data": {
      "text/html": [
       "<div>\n",
       "<style scoped>\n",
       "    .dataframe tbody tr th:only-of-type {\n",
       "        vertical-align: middle;\n",
       "    }\n",
       "\n",
       "    .dataframe tbody tr th {\n",
       "        vertical-align: top;\n",
       "    }\n",
       "\n",
       "    .dataframe thead th {\n",
       "        text-align: right;\n",
       "    }\n",
       "</style>\n",
       "<table border=\"1\" class=\"dataframe\">\n",
       "  <thead>\n",
       "    <tr style=\"text-align: right;\">\n",
       "      <th></th>\n",
       "      <th>fecha</th>\n",
       "      <th>producto</th>\n",
       "      <th>cantidad</th>\n",
       "      <th>precio_unitario</th>\n",
       "    </tr>\n",
       "  </thead>\n",
       "  <tbody>\n",
       "    <tr>\n",
       "      <th>0</th>\n",
       "      <td>2025-10-01</td>\n",
       "      <td>Camisa</td>\n",
       "      <td>2.0</td>\n",
       "      <td>20</td>\n",
       "    </tr>\n",
       "    <tr>\n",
       "      <th>1</th>\n",
       "      <td>2025-10-01</td>\n",
       "      <td>Pantalón</td>\n",
       "      <td>1.0</td>\n",
       "      <td>30</td>\n",
       "    </tr>\n",
       "    <tr>\n",
       "      <th>3</th>\n",
       "      <td>2025-10-02</td>\n",
       "      <td>Zapatos</td>\n",
       "      <td>3.0</td>\n",
       "      <td>50</td>\n",
       "    </tr>\n",
       "    <tr>\n",
       "      <th>4</th>\n",
       "      <td>2025-10-03</td>\n",
       "      <td>Pantalón</td>\n",
       "      <td>2.0</td>\n",
       "      <td>30</td>\n",
       "    </tr>\n",
       "    <tr>\n",
       "      <th>5</th>\n",
       "      <td>2025-10-03</td>\n",
       "      <td>Zapatos</td>\n",
       "      <td>1.0</td>\n",
       "      <td>50</td>\n",
       "    </tr>\n",
       "  </tbody>\n",
       "</table>\n",
       "</div>"
      ],
      "text/plain": [
       "        fecha  producto  cantidad  precio_unitario\n",
       "0  2025-10-01    Camisa       2.0               20\n",
       "1  2025-10-01  Pantalón       1.0               30\n",
       "3  2025-10-02   Zapatos       3.0               50\n",
       "4  2025-10-03  Pantalón       2.0               30\n",
       "5  2025-10-03   Zapatos       1.0               50"
      ]
     },
     "execution_count": 10,
     "metadata": {},
     "output_type": "execute_result"
    }
   ],
   "source": [
    "#ELIMINAMOS LOS NULOS PERO NO MODIFICAMOS EL ORIGINAL\n",
    "df.dropna()"
   ]
  },
  {
   "cell_type": "code",
   "execution_count": 11,
   "id": "c067674a-f088-4ee3-878c-dba43cffcb2a",
   "metadata": {},
   "outputs": [
    {
     "data": {
      "text/plain": [
       "fecha              0\n",
       "producto           0\n",
       "cantidad           1\n",
       "precio_unitario    0\n",
       "dtype: int64"
      ]
     },
     "execution_count": 11,
     "metadata": {},
     "output_type": "execute_result"
    }
   ],
   "source": [
    "df.isna().sum()"
   ]
  },
  {
   "cell_type": "code",
   "execution_count": 12,
   "id": "3a840e67-5fe7-41ec-9b9a-d7929263f920",
   "metadata": {},
   "outputs": [],
   "source": [
    "#AHORA SÍ, MODIFICAMOS EL ORIGINAL\n",
    "df = df.dropna()"
   ]
  },
  {
   "cell_type": "code",
   "execution_count": 13,
   "id": "231d5467-3efa-490f-87ac-bb22ffb86cd9",
   "metadata": {},
   "outputs": [
    {
     "data": {
      "text/plain": [
       "fecha              0\n",
       "producto           0\n",
       "cantidad           0\n",
       "precio_unitario    0\n",
       "dtype: int64"
      ]
     },
     "execution_count": 13,
     "metadata": {},
     "output_type": "execute_result"
    }
   ],
   "source": [
    "df.isna().sum()"
   ]
  },
  {
   "cell_type": "code",
   "execution_count": 15,
   "id": "ec385a17-0a89-4e39-bb4a-cf8d5447d2ba",
   "metadata": {},
   "outputs": [],
   "source": [
    "#REINDEXAMOS LOS INDICES PARA QUE NO QUEDEN HUECOS\n",
    "df = df.reset_index(drop=True)"
   ]
  },
  {
   "cell_type": "code",
   "execution_count": 16,
   "id": "c09161c2-f5b4-44c5-a3ae-56f42556a716",
   "metadata": {},
   "outputs": [],
   "source": [
    "#CREAMOS UNA COLUMNA NUEVA LLAMADA TOTAL PARA PRECIOS\n",
    "df[\"total\"] = df[\"cantidad\"]*df[\"precio_unitario\"]"
   ]
  },
  {
   "cell_type": "code",
   "execution_count": 17,
   "id": "02867e6d-74a3-4b40-8494-db668ae5b737",
   "metadata": {},
   "outputs": [
    {
     "data": {
      "text/html": [
       "<div>\n",
       "<style scoped>\n",
       "    .dataframe tbody tr th:only-of-type {\n",
       "        vertical-align: middle;\n",
       "    }\n",
       "\n",
       "    .dataframe tbody tr th {\n",
       "        vertical-align: top;\n",
       "    }\n",
       "\n",
       "    .dataframe thead th {\n",
       "        text-align: right;\n",
       "    }\n",
       "</style>\n",
       "<table border=\"1\" class=\"dataframe\">\n",
       "  <thead>\n",
       "    <tr style=\"text-align: right;\">\n",
       "      <th></th>\n",
       "      <th>fecha</th>\n",
       "      <th>producto</th>\n",
       "      <th>cantidad</th>\n",
       "      <th>precio_unitario</th>\n",
       "      <th>total</th>\n",
       "    </tr>\n",
       "  </thead>\n",
       "  <tbody>\n",
       "    <tr>\n",
       "      <th>0</th>\n",
       "      <td>2025-10-01</td>\n",
       "      <td>Camisa</td>\n",
       "      <td>2.0</td>\n",
       "      <td>20</td>\n",
       "      <td>40.0</td>\n",
       "    </tr>\n",
       "    <tr>\n",
       "      <th>1</th>\n",
       "      <td>2025-10-01</td>\n",
       "      <td>Pantalón</td>\n",
       "      <td>1.0</td>\n",
       "      <td>30</td>\n",
       "      <td>30.0</td>\n",
       "    </tr>\n",
       "    <tr>\n",
       "      <th>2</th>\n",
       "      <td>2025-10-02</td>\n",
       "      <td>Zapatos</td>\n",
       "      <td>3.0</td>\n",
       "      <td>50</td>\n",
       "      <td>150.0</td>\n",
       "    </tr>\n",
       "    <tr>\n",
       "      <th>3</th>\n",
       "      <td>2025-10-03</td>\n",
       "      <td>Pantalón</td>\n",
       "      <td>2.0</td>\n",
       "      <td>30</td>\n",
       "      <td>60.0</td>\n",
       "    </tr>\n",
       "    <tr>\n",
       "      <th>4</th>\n",
       "      <td>2025-10-03</td>\n",
       "      <td>Zapatos</td>\n",
       "      <td>1.0</td>\n",
       "      <td>50</td>\n",
       "      <td>50.0</td>\n",
       "    </tr>\n",
       "  </tbody>\n",
       "</table>\n",
       "</div>"
      ],
      "text/plain": [
       "        fecha  producto  cantidad  precio_unitario  total\n",
       "0  2025-10-01    Camisa       2.0               20   40.0\n",
       "1  2025-10-01  Pantalón       1.0               30   30.0\n",
       "2  2025-10-02   Zapatos       3.0               50  150.0\n",
       "3  2025-10-03  Pantalón       2.0               30   60.0\n",
       "4  2025-10-03   Zapatos       1.0               50   50.0"
      ]
     },
     "execution_count": 17,
     "metadata": {},
     "output_type": "execute_result"
    }
   ],
   "source": [
    "df"
   ]
  },
  {
   "cell_type": "code",
   "execution_count": 18,
   "id": "25823d19-d5d9-4d74-a023-834589de66ef",
   "metadata": {},
   "outputs": [],
   "source": [
    "#VAMOS A FILTRAR POR VENTAS QUE SUPEREN LOS 50€\n",
    "ventas_altas = df[df[\"total\"]>50]"
   ]
  },
  {
   "cell_type": "code",
   "execution_count": 19,
   "id": "91b4fde9-8cf4-47a5-8704-d28e42f099f4",
   "metadata": {},
   "outputs": [
    {
     "data": {
      "text/html": [
       "<div>\n",
       "<style scoped>\n",
       "    .dataframe tbody tr th:only-of-type {\n",
       "        vertical-align: middle;\n",
       "    }\n",
       "\n",
       "    .dataframe tbody tr th {\n",
       "        vertical-align: top;\n",
       "    }\n",
       "\n",
       "    .dataframe thead th {\n",
       "        text-align: right;\n",
       "    }\n",
       "</style>\n",
       "<table border=\"1\" class=\"dataframe\">\n",
       "  <thead>\n",
       "    <tr style=\"text-align: right;\">\n",
       "      <th></th>\n",
       "      <th>fecha</th>\n",
       "      <th>producto</th>\n",
       "      <th>cantidad</th>\n",
       "      <th>precio_unitario</th>\n",
       "      <th>total</th>\n",
       "    </tr>\n",
       "  </thead>\n",
       "  <tbody>\n",
       "    <tr>\n",
       "      <th>2</th>\n",
       "      <td>2025-10-02</td>\n",
       "      <td>Zapatos</td>\n",
       "      <td>3.0</td>\n",
       "      <td>50</td>\n",
       "      <td>150.0</td>\n",
       "    </tr>\n",
       "    <tr>\n",
       "      <th>3</th>\n",
       "      <td>2025-10-03</td>\n",
       "      <td>Pantalón</td>\n",
       "      <td>2.0</td>\n",
       "      <td>30</td>\n",
       "      <td>60.0</td>\n",
       "    </tr>\n",
       "  </tbody>\n",
       "</table>\n",
       "</div>"
      ],
      "text/plain": [
       "        fecha  producto  cantidad  precio_unitario  total\n",
       "2  2025-10-02   Zapatos       3.0               50  150.0\n",
       "3  2025-10-03  Pantalón       2.0               30   60.0"
      ]
     },
     "execution_count": 19,
     "metadata": {},
     "output_type": "execute_result"
    }
   ],
   "source": [
    "ventas_altas"
   ]
  },
  {
   "cell_type": "code",
   "execution_count": 24,
   "id": "9ae630d0-2900-4e0d-8724-8af5b7817c4f",
   "metadata": {},
   "outputs": [
    {
     "data": {
      "text/html": [
       "<div>\n",
       "<style scoped>\n",
       "    .dataframe tbody tr th:only-of-type {\n",
       "        vertical-align: middle;\n",
       "    }\n",
       "\n",
       "    .dataframe tbody tr th {\n",
       "        vertical-align: top;\n",
       "    }\n",
       "\n",
       "    .dataframe thead th {\n",
       "        text-align: right;\n",
       "    }\n",
       "</style>\n",
       "<table border=\"1\" class=\"dataframe\">\n",
       "  <thead>\n",
       "    <tr style=\"text-align: right;\">\n",
       "      <th></th>\n",
       "      <th>producto</th>\n",
       "      <th>total_ventas</th>\n",
       "      <th>media_total</th>\n",
       "    </tr>\n",
       "  </thead>\n",
       "  <tbody>\n",
       "    <tr>\n",
       "      <th>0</th>\n",
       "      <td>Camisa</td>\n",
       "      <td>40.0</td>\n",
       "      <td>40.0</td>\n",
       "    </tr>\n",
       "    <tr>\n",
       "      <th>1</th>\n",
       "      <td>Pantalón</td>\n",
       "      <td>90.0</td>\n",
       "      <td>45.0</td>\n",
       "    </tr>\n",
       "    <tr>\n",
       "      <th>2</th>\n",
       "      <td>Zapatos</td>\n",
       "      <td>200.0</td>\n",
       "      <td>100.0</td>\n",
       "    </tr>\n",
       "  </tbody>\n",
       "</table>\n",
       "</div>"
      ],
      "text/plain": [
       "   producto  total_ventas  media_total\n",
       "0    Camisa          40.0         40.0\n",
       "1  Pantalón          90.0         45.0\n",
       "2   Zapatos         200.0        100.0"
      ]
     },
     "execution_count": 24,
     "metadata": {},
     "output_type": "execute_result"
    }
   ],
   "source": [
    "resumen = df.groupby('producto')['total'].agg(total_ventas='sum', media_total='mean').reset_index()\n",
    "resumen"
   ]
  },
  {
   "cell_type": "code",
   "execution_count": 27,
   "id": "0bc420aa-14b2-43c0-97a8-4c19d23a5346",
   "metadata": {},
   "outputs": [
    {
     "data": {
      "image/png": "[encoded data removed]",
      "text/plain": [
       "<Figure size 800x500 with 1 Axes>"
      ]
     },
     "metadata": {},
     "output_type": "display_data"
    }
   ],
   "source": [
    "plt.figure(figsize=(8,5))\n",
    "plt.bar(resumen[\"producto\"], resumen[\"total_ventas\"], color = \"skyblue\")\n",
    "plt.title(\"Total ventas por producto\")\n",
    "plt.xlabel(\"Producto\")\n",
    "plt.ylabel(\"Ventas_totales\")\n",
    "plt.show()\n"
   ]
  },
  {
   "cell_type": "code",
   "execution_count": null,
   "id": "aed31cd2-5c9c-46c3-8632-9d0a2bbfe856",
   "metadata": {},
   "outputs": [],
   "source": []
  },
  {
   "cell_type": "code",
   "execution_count": null,
   "id": "30be01ff-9c1e-4aae-9415-43b133204ec6",
   "metadata": {},
   "outputs": [],
   "source": []
  },
  {
   "cell_type": "code",
   "execution_count": null,
   "id": "e7a2d8d9-f77a-4e91-b442-4ff015e82bc4",
   "metadata": {},
   "outputs": [],
   "source": []
  },
  {
   "cell_type": "code",
   "execution_count": null,
   "id": "e3c916fe-ccff-4091-85a4-051027a44e9c",
   "metadata": {},
   "outputs": [],
   "source": []
  },
  {
   "cell_type": "code",
   "execution_count": null,
   "id": "f2140189-7a03-4297-bb1f-16f8bc73cc61",
   "metadata": {},
   "outputs": [],
   "source": []
  },
  {
   "cell_type": "code",
   "execution_count": null,
   "id": "996b131f-bc6e-441a-838b-d0318dcdafce",
   "metadata": {},
   "outputs": [],
   "source": []
  },
  {
   "cell_type": "code",
   "execution_count": null,
   "id": "f9f832eb-9bb7-4d9b-ba36-38b3ba180bfa",
   "metadata": {},
   "outputs": [],
   "source": []
  },
  {
   "cell_type": "code",
   "execution_count": null,
   "id": "94b581a6-646a-461c-8e13-3aee0b617195",
   "metadata": {},
   "outputs": [],
   "source": []
  }
 ],
 "metadata": {
  "kernelspec": {
   "display_name": "Python (dataeng)",
   "language": "python",
   "name": "dataeng"
  },
  "language_info": {
   "codemirror_mode": {
    "name": "ipython",
    "version": 3
   },
   "file_extension": ".py",
   "mimetype": "text/x-python",
   "name": "python",
   "nbconvert_exporter": "python",
   "pygments_lexer": "ipython3",
   "version": "3.11.13"
  }
 },
 "nbformat": 4,
 "nbformat_minor": 5
}
